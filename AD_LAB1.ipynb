{
  "nbformat": 4,
  "nbformat_minor": 0,
  "metadata": {
    "colab": {
      "provenance": [],
      "authorship_tag": "ABX9TyPxQbM7RZsOP9tXwFezWs8m",
      "include_colab_link": true
    },
    "kernelspec": {
      "name": "python3",
      "display_name": "Python 3"
    },
    "language_info": {
      "name": "python"
    }
  },
  "cells": [
    {
      "cell_type": "markdown",
      "metadata": {
        "id": "view-in-github",
        "colab_type": "text"
      },
      "source": [
        "<a href=\"https://colab.research.google.com/github/Kashishsarkar/project_1/blob/main/AD_LAB1.ipynb\" target=\"_parent\"><img src=\"https://colab.research.google.com/assets/colab-badge.svg\" alt=\"Open In Colab\"/></a>"
      ]
    },
    {
      "cell_type": "code",
      "source": [
        "!git clone https://github.com/RajaPiyush/Airlines_ticket_Prediction"
      ],
      "metadata": {
        "colab": {
          "base_uri": "https://localhost:8080/"
        },
        "id": "_BJy21U5R3TL",
        "outputId": "7e0599f9-9691-44d5-8768-0b73d0b41667"
      },
      "execution_count": 2,
      "outputs": [
        {
          "output_type": "stream",
          "name": "stdout",
          "text": [
            "Cloning into 'Airlines_ticket_Prediction'...\n",
            "remote: Enumerating objects: 10, done.\u001b[K\n",
            "remote: Counting objects: 100% (10/10), done.\u001b[K\n",
            "remote: Compressing objects: 100% (8/8), done.\u001b[K\n",
            "remote: Total 10 (delta 0), reused 2 (delta 0), pack-reused 0 (from 0)\u001b[K\n",
            "Receiving objects: 100% (10/10), 857.59 KiB | 7.66 MiB/s, done.\n"
          ]
        }
      ]
    },
    {
      "cell_type": "code",
      "source": [
        "!conda env create -f Airlines_ticket_Prediction/environment.yml"
      ],
      "metadata": {
        "colab": {
          "base_uri": "https://localhost:8080/"
        },
        "id": "RI-Yza4gSG2b",
        "outputId": "9a84ee55-2fdf-49df-bf25-f95bb64f236c"
      },
      "execution_count": 3,
      "outputs": [
        {
          "output_type": "stream",
          "name": "stdout",
          "text": [
            "/bin/bash: line 1: conda: command not found\n"
          ]
        }
      ]
    },
    {
      "cell_type": "code",
      "source": [
        "!pip install pandas openpyxl"
      ],
      "metadata": {
        "colab": {
          "base_uri": "https://localhost:8080/"
        },
        "id": "BFfCzAXaSm1O",
        "outputId": "04047cce-8a57-4a7b-c4ce-74ffbbba87d8"
      },
      "execution_count": 4,
      "outputs": [
        {
          "output_type": "stream",
          "name": "stdout",
          "text": [
            "Requirement already satisfied: pandas in /usr/local/lib/python3.10/dist-packages (2.2.2)\n",
            "Requirement already satisfied: openpyxl in /usr/local/lib/python3.10/dist-packages (3.1.5)\n",
            "Requirement already satisfied: numpy>=1.22.4 in /usr/local/lib/python3.10/dist-packages (from pandas) (1.26.4)\n",
            "Requirement already satisfied: python-dateutil>=2.8.2 in /usr/local/lib/python3.10/dist-packages (from pandas) (2.8.2)\n",
            "Requirement already satisfied: pytz>=2020.1 in /usr/local/lib/python3.10/dist-packages (from pandas) (2024.2)\n",
            "Requirement already satisfied: tzdata>=2022.7 in /usr/local/lib/python3.10/dist-packages (from pandas) (2024.2)\n",
            "Requirement already satisfied: et-xmlfile in /usr/local/lib/python3.10/dist-packages (from openpyxl) (2.0.0)\n",
            "Requirement already satisfied: six>=1.5 in /usr/local/lib/python3.10/dist-packages (from python-dateutil>=2.8.2->pandas) (1.17.0)\n"
          ]
        }
      ]
    },
    {
      "cell_type": "code",
      "source": [
        "import pandas as pd\n",
        "from google.colab import files\n",
        "uploaded = files.upload()\n",
        "df=pd.read_excel('Data_Train.xlsx')\n",
        "df.head()\n",
        "print(df.head())"
      ],
      "metadata": {
        "colab": {
          "base_uri": "https://localhost:8080/",
          "height": 299
        },
        "id": "hUbFec4ZSusG",
        "outputId": "c95c16c0-796c-4b0b-8e32-6fc64b02da88"
      },
      "execution_count": 5,
      "outputs": [
        {
          "output_type": "display_data",
          "data": {
            "text/plain": [
              "<IPython.core.display.HTML object>"
            ],
            "text/html": [
              "\n",
              "     <input type=\"file\" id=\"files-d3110a2c-55f0-43aa-bfad-78f9a0d6dfca\" name=\"files[]\" multiple disabled\n",
              "        style=\"border:none\" />\n",
              "     <output id=\"result-d3110a2c-55f0-43aa-bfad-78f9a0d6dfca\">\n",
              "      Upload widget is only available when the cell has been executed in the\n",
              "      current browser session. Please rerun this cell to enable.\n",
              "      </output>\n",
              "      <script>// Copyright 2017 Google LLC\n",
              "//\n",
              "// Licensed under the Apache License, Version 2.0 (the \"License\");\n",
              "// you may not use this file except in compliance with the License.\n",
              "// You may obtain a copy of the License at\n",
              "//\n",
              "//      http://www.apache.org/licenses/LICENSE-2.0\n",
              "//\n",
              "// Unless required by applicable law or agreed to in writing, software\n",
              "// distributed under the License is distributed on an \"AS IS\" BASIS,\n",
              "// WITHOUT WARRANTIES OR CONDITIONS OF ANY KIND, either express or implied.\n",
              "// See the License for the specific language governing permissions and\n",
              "// limitations under the License.\n",
              "\n",
              "/**\n",
              " * @fileoverview Helpers for google.colab Python module.\n",
              " */\n",
              "(function(scope) {\n",
              "function span(text, styleAttributes = {}) {\n",
              "  const element = document.createElement('span');\n",
              "  element.textContent = text;\n",
              "  for (const key of Object.keys(styleAttributes)) {\n",
              "    element.style[key] = styleAttributes[key];\n",
              "  }\n",
              "  return element;\n",
              "}\n",
              "\n",
              "// Max number of bytes which will be uploaded at a time.\n",
              "const MAX_PAYLOAD_SIZE = 100 * 1024;\n",
              "\n",
              "function _uploadFiles(inputId, outputId) {\n",
              "  const steps = uploadFilesStep(inputId, outputId);\n",
              "  const outputElement = document.getElementById(outputId);\n",
              "  // Cache steps on the outputElement to make it available for the next call\n",
              "  // to uploadFilesContinue from Python.\n",
              "  outputElement.steps = steps;\n",
              "\n",
              "  return _uploadFilesContinue(outputId);\n",
              "}\n",
              "\n",
              "// This is roughly an async generator (not supported in the browser yet),\n",
              "// where there are multiple asynchronous steps and the Python side is going\n",
              "// to poll for completion of each step.\n",
              "// This uses a Promise to block the python side on completion of each step,\n",
              "// then passes the result of the previous step as the input to the next step.\n",
              "function _uploadFilesContinue(outputId) {\n",
              "  const outputElement = document.getElementById(outputId);\n",
              "  const steps = outputElement.steps;\n",
              "\n",
              "  const next = steps.next(outputElement.lastPromiseValue);\n",
              "  return Promise.resolve(next.value.promise).then((value) => {\n",
              "    // Cache the last promise value to make it available to the next\n",
              "    // step of the generator.\n",
              "    outputElement.lastPromiseValue = value;\n",
              "    return next.value.response;\n",
              "  });\n",
              "}\n",
              "\n",
              "/**\n",
              " * Generator function which is called between each async step of the upload\n",
              " * process.\n",
              " * @param {string} inputId Element ID of the input file picker element.\n",
              " * @param {string} outputId Element ID of the output display.\n",
              " * @return {!Iterable<!Object>} Iterable of next steps.\n",
              " */\n",
              "function* uploadFilesStep(inputId, outputId) {\n",
              "  const inputElement = document.getElementById(inputId);\n",
              "  inputElement.disabled = false;\n",
              "\n",
              "  const outputElement = document.getElementById(outputId);\n",
              "  outputElement.innerHTML = '';\n",
              "\n",
              "  const pickedPromise = new Promise((resolve) => {\n",
              "    inputElement.addEventListener('change', (e) => {\n",
              "      resolve(e.target.files);\n",
              "    });\n",
              "  });\n",
              "\n",
              "  const cancel = document.createElement('button');\n",
              "  inputElement.parentElement.appendChild(cancel);\n",
              "  cancel.textContent = 'Cancel upload';\n",
              "  const cancelPromise = new Promise((resolve) => {\n",
              "    cancel.onclick = () => {\n",
              "      resolve(null);\n",
              "    };\n",
              "  });\n",
              "\n",
              "  // Wait for the user to pick the files.\n",
              "  const files = yield {\n",
              "    promise: Promise.race([pickedPromise, cancelPromise]),\n",
              "    response: {\n",
              "      action: 'starting',\n",
              "    }\n",
              "  };\n",
              "\n",
              "  cancel.remove();\n",
              "\n",
              "  // Disable the input element since further picks are not allowed.\n",
              "  inputElement.disabled = true;\n",
              "\n",
              "  if (!files) {\n",
              "    return {\n",
              "      response: {\n",
              "        action: 'complete',\n",
              "      }\n",
              "    };\n",
              "  }\n",
              "\n",
              "  for (const file of files) {\n",
              "    const li = document.createElement('li');\n",
              "    li.append(span(file.name, {fontWeight: 'bold'}));\n",
              "    li.append(span(\n",
              "        `(${file.type || 'n/a'}) - ${file.size} bytes, ` +\n",
              "        `last modified: ${\n",
              "            file.lastModifiedDate ? file.lastModifiedDate.toLocaleDateString() :\n",
              "                                    'n/a'} - `));\n",
              "    const percent = span('0% done');\n",
              "    li.appendChild(percent);\n",
              "\n",
              "    outputElement.appendChild(li);\n",
              "\n",
              "    const fileDataPromise = new Promise((resolve) => {\n",
              "      const reader = new FileReader();\n",
              "      reader.onload = (e) => {\n",
              "        resolve(e.target.result);\n",
              "      };\n",
              "      reader.readAsArrayBuffer(file);\n",
              "    });\n",
              "    // Wait for the data to be ready.\n",
              "    let fileData = yield {\n",
              "      promise: fileDataPromise,\n",
              "      response: {\n",
              "        action: 'continue',\n",
              "      }\n",
              "    };\n",
              "\n",
              "    // Use a chunked sending to avoid message size limits. See b/62115660.\n",
              "    let position = 0;\n",
              "    do {\n",
              "      const length = Math.min(fileData.byteLength - position, MAX_PAYLOAD_SIZE);\n",
              "      const chunk = new Uint8Array(fileData, position, length);\n",
              "      position += length;\n",
              "\n",
              "      const base64 = btoa(String.fromCharCode.apply(null, chunk));\n",
              "      yield {\n",
              "        response: {\n",
              "          action: 'append',\n",
              "          file: file.name,\n",
              "          data: base64,\n",
              "        },\n",
              "      };\n",
              "\n",
              "      let percentDone = fileData.byteLength === 0 ?\n",
              "          100 :\n",
              "          Math.round((position / fileData.byteLength) * 100);\n",
              "      percent.textContent = `${percentDone}% done`;\n",
              "\n",
              "    } while (position < fileData.byteLength);\n",
              "  }\n",
              "\n",
              "  // All done.\n",
              "  yield {\n",
              "    response: {\n",
              "      action: 'complete',\n",
              "    }\n",
              "  };\n",
              "}\n",
              "\n",
              "scope.google = scope.google || {};\n",
              "scope.google.colab = scope.google.colab || {};\n",
              "scope.google.colab._files = {\n",
              "  _uploadFiles,\n",
              "  _uploadFilesContinue,\n",
              "};\n",
              "})(self);\n",
              "</script> "
            ]
          },
          "metadata": {}
        },
        {
          "output_type": "stream",
          "name": "stdout",
          "text": [
            "Saving Data_Train.xlsx to Data_Train.xlsx\n",
            "       Airline Date_of_Journey    Source Destination                  Route  \\\n",
            "0       IndiGo      24/03/2019  Banglore   New Delhi              BLR → DEL   \n",
            "1    Air India       1/05/2019   Kolkata    Banglore  CCU → IXR → BBI → BLR   \n",
            "2  Jet Airways       9/06/2019     Delhi      Cochin  DEL → LKO → BOM → COK   \n",
            "3       IndiGo      12/05/2019   Kolkata    Banglore        CCU → NAG → BLR   \n",
            "4       IndiGo      01/03/2019  Banglore   New Delhi        BLR → NAG → DEL   \n",
            "\n",
            "  Dep_Time  Arrival_Time Duration Total_Stops Additional_Info  Price  \n",
            "0    22:20  01:10 22 Mar   2h 50m    non-stop         No info   3897  \n",
            "1    05:50         13:15   7h 25m     2 stops         No info   7662  \n",
            "2    09:25  04:25 10 Jun      19h     2 stops         No info  13882  \n",
            "3    18:05         23:30   5h 25m      1 stop         No info   6218  \n",
            "4    16:50         21:35   4h 45m      1 stop         No info  13302  \n"
          ]
        }
      ]
    },
    {
      "cell_type": "code",
      "source": [
        "\n",
        "print(\"dataframe: \")\n",
        "print(df.head())"
      ],
      "metadata": {
        "colab": {
          "base_uri": "https://localhost:8080/"
        },
        "id": "MAe6JPEaTC6P",
        "outputId": "8db6436a-773a-4ea0-8de2-680cf8b3578a"
      },
      "execution_count": 6,
      "outputs": [
        {
          "output_type": "stream",
          "name": "stdout",
          "text": [
            "dataframe: \n",
            "       Airline Date_of_Journey    Source Destination                  Route  \\\n",
            "0       IndiGo      24/03/2019  Banglore   New Delhi              BLR → DEL   \n",
            "1    Air India       1/05/2019   Kolkata    Banglore  CCU → IXR → BBI → BLR   \n",
            "2  Jet Airways       9/06/2019     Delhi      Cochin  DEL → LKO → BOM → COK   \n",
            "3       IndiGo      12/05/2019   Kolkata    Banglore        CCU → NAG → BLR   \n",
            "4       IndiGo      01/03/2019  Banglore   New Delhi        BLR → NAG → DEL   \n",
            "\n",
            "  Dep_Time  Arrival_Time Duration Total_Stops Additional_Info  Price  \n",
            "0    22:20  01:10 22 Mar   2h 50m    non-stop         No info   3897  \n",
            "1    05:50         13:15   7h 25m     2 stops         No info   7662  \n",
            "2    09:25  04:25 10 Jun      19h     2 stops         No info  13882  \n",
            "3    18:05         23:30   5h 25m      1 stop         No info   6218  \n",
            "4    16:50         21:35   4h 45m      1 stop         No info  13302  \n"
          ]
        }
      ]
    },
    {
      "cell_type": "code",
      "source": [
        "total_nulls = df.isnull().sum()\n",
        "print(\"total nulls in each column: \\n\")\n",
        "print(total_nulls)"
      ],
      "metadata": {
        "colab": {
          "base_uri": "https://localhost:8080/"
        },
        "id": "ncCSMhPzV11K",
        "outputId": "1f0b32e0-6ef6-4c3e-f97a-7eb4ba60525d"
      },
      "execution_count": 7,
      "outputs": [
        {
          "output_type": "stream",
          "name": "stdout",
          "text": [
            "total nulls in each column: \n",
            "\n",
            "Airline            0\n",
            "Date_of_Journey    0\n",
            "Source             0\n",
            "Destination        0\n",
            "Route              1\n",
            "Dep_Time           0\n",
            "Arrival_Time       0\n",
            "Duration           0\n",
            "Total_Stops        1\n",
            "Additional_Info    0\n",
            "Price              0\n",
            "dtype: int64\n"
          ]
        }
      ]
    },
    {
      "cell_type": "code",
      "source": [
        "print(\"summary statistics:\")\n",
        "print(df.describe()) #calculate all the statistics--> describe()"
      ],
      "metadata": {
        "colab": {
          "base_uri": "https://localhost:8080/"
        },
        "id": "CY7pDy6uWeRU",
        "outputId": "a3cd4f47-2aee-4ee1-c55f-9abe41092a20"
      },
      "execution_count": 8,
      "outputs": [
        {
          "output_type": "stream",
          "name": "stdout",
          "text": [
            "summary statistics:\n",
            "              Price\n",
            "count  10683.000000\n",
            "mean    9087.064121\n",
            "std     4611.359167\n",
            "min     1759.000000\n",
            "25%     5277.000000\n",
            "50%     8372.000000\n",
            "75%    12373.000000\n",
            "max    79512.000000\n"
          ]
        }
      ]
    },
    {
      "cell_type": "code",
      "source": [
        "rows_before_drop = len(df)\n",
        "df_cleaned = df.dropna()\n",
        "rows_after_drop= len(df_cleaned)\n",
        "print(f\"rows before drop: {rows_before_drop}\") #dynamic insertion\n",
        "print(f\"rows after drop: {rows_after_drop}\")   #dynamic insertion using f and {}"
      ],
      "metadata": {
        "colab": {
          "base_uri": "https://localhost:8080/"
        },
        "id": "LfTjaw5VWvPc",
        "outputId": "f2d43fa5-a3c8-45c1-df53-6ab169da7d31"
      },
      "execution_count": 9,
      "outputs": [
        {
          "output_type": "stream",
          "name": "stdout",
          "text": [
            "rows before drop: 10683\n",
            "rows after drop: 10682\n"
          ]
        }
      ]
    },
    {
      "cell_type": "code",
      "source": [
        "ColumnName= df.Dep_Time\n",
        "if 'ColumnName' in df.columns:\n",
        "  df['ColumnName'] = df['ColumnName'].fillna(df['ColumnName'].mean())\n",
        "  print(\"column filled with mean\")\n",
        "else:\n",
        "  print(\"column not found\")"
      ],
      "metadata": {
        "colab": {
          "base_uri": "https://localhost:8080/"
        },
        "id": "aL1W7-JsXjT6",
        "outputId": "1fc0152f-8dbd-4ece-8456-12ec978fd965"
      },
      "execution_count": 10,
      "outputs": [
        {
          "output_type": "stream",
          "name": "stdout",
          "text": [
            "column not found\n"
          ]
        }
      ]
    },
    {
      "cell_type": "code",
      "source": [
        "import matplotlib.pyplot as plt\n",
        "import seaborn as sns\n",
        "if {'Source', 'Destination'}.issubset(df.columns):\n",
        "  plt.figure(figsize=(8,8))\n",
        "  sns.scatterplot(x=df['Source'], y= df['Destination'])\n",
        "  plt.xlabel('Source')\n",
        "  plt.ylabel('Destination')\n",
        "  plt.show()\n",
        "else:\n",
        "  print(\"columns not found\")\n"
      ],
      "metadata": {
        "colab": {
          "base_uri": "https://localhost:8080/",
          "height": 696
        },
        "id": "SkS3Fw_ubcOM",
        "outputId": "59bcd86a-4a40-4b3b-b715-bbbf794833ca"
      },
      "execution_count": 11,
      "outputs": [
        {
          "output_type": "display_data",
          "data": {
            "text/plain": [
              "<Figure size 800x800 with 1 Axes>"
            ],
            "image/png": "[encoded data removed]"
          },
          "metadata": {}
        }
      ]
    },
    {
      "cell_type": "code",
      "source": [
        "if 'Total_Stops' in df.columns:\n",
        "    df['Total_Stops'] = df['Total_Stops'].str.extract(r'(\\d+)').astype(float)\n",
        "if{'Total_Stops','Price'}.issubset(df.columns):\n",
        "  sns.regplot(x=df['Total_Stops'], y=df['Price'])\n",
        "  plt.xlabel = 'Total_Stops'\n",
        "  plt.ylabel ='Price'\n",
        "  plt.show()\n",
        "else:\n",
        "  print(\"columns not found\")"
      ],
      "metadata": {
        "colab": {
          "base_uri": "https://localhost:8080/",
          "height": 450
        },
        "id": "haux9fskc_Hh",
        "outputId": "72c31f94-48e6-4aa7-a30c-369e2b00a456"
      },
      "execution_count": 12,
      "outputs": [
        {
          "output_type": "display_data",
          "data": {
            "text/plain": [
              "<Figure size 640x480 with 1 Axes>"
            ],
            "image/png": "[encoded data removed]"
          },
          "metadata": {}
        }
      ]
    },
    {
      "cell_type": "code",
      "source": [
        "if 'Arrival_Time' in df.columns:\n",
        "  df['Arrival_Time'] = pd.to_datetime(df['Arrival_Time'],errors = 'coerce')\n",
        "  print(\"column converted to datetime\")\n",
        "  print(df['Arrival_Time'])\n",
        "else:\n",
        "  print(\"column not found\")"
      ],
      "metadata": {
        "colab": {
          "base_uri": "https://localhost:8080/"
        },
        "id": "4JLVPG5oqbUy",
        "outputId": "97252bf9-39e3-4eff-e8bd-0c5e2079777f"
      },
      "execution_count": 13,
      "outputs": [
        {
          "output_type": "stream",
          "name": "stdout",
          "text": [
            "column converted to datetime\n",
            "0       2024-03-22 01:10:00\n",
            "1       2024-12-13 13:15:00\n",
            "2       2024-06-10 04:25:00\n",
            "3       2024-12-13 23:30:00\n",
            "4       2024-12-13 21:35:00\n",
            "                ...        \n",
            "10678   2024-12-13 22:25:00\n",
            "10679   2024-12-13 23:20:00\n",
            "10680   2024-12-13 11:20:00\n",
            "10681   2024-12-13 14:10:00\n",
            "10682   2024-12-13 19:15:00\n",
            "Name: Arrival_Time, Length: 10683, dtype: datetime64[ns]\n"
          ]
        },
        {
          "output_type": "stream",
          "name": "stderr",
          "text": [
            "<ipython-input-13-c572732a78f0>:2: UserWarning: Could not infer format, so each element will be parsed individually, falling back to `dateutil`. To ensure parsing is consistent and as-expected, please specify a format.\n",
            "  df['Arrival_Time'] = pd.to_datetime(df['Arrival_Time'],errors = 'coerce')\n"
          ]
        }
      ]
    },
    {
      "cell_type": "code",
      "source": [
        "if 'Price' in df.columns:\n",
        "  numerical_df = df.select_dtypes(include=['number'])\n",
        "  grouped_data = numerical_df.groupby('Price').agg(['mean', 'sum','count'])\n",
        "  print(grouped_data)\n",
        "else:\n",
        "  print(\"column not found\")"
      ],
      "metadata": {
        "colab": {
          "base_uri": "https://localhost:8080/"
        },
        "id": "9hsaHGFhthMo",
        "outputId": "72026372-4e58-4049-e3d8-2d413f2aaeeb"
      },
      "execution_count": 14,
      "outputs": [
        {
          "output_type": "stream",
          "name": "stdout",
          "text": [
            "      Total_Stops           \n",
            "             mean  sum count\n",
            "Price                       \n",
            "1759          NaN  0.0     0\n",
            "1840          NaN  0.0     0\n",
            "1965          NaN  0.0     0\n",
            "2017          NaN  0.0     0\n",
            "2050          NaN  0.0     0\n",
            "...           ...  ...   ...\n",
            "52285         2.0  2.0     1\n",
            "54826         1.0  3.0     3\n",
            "57209         1.0  1.0     1\n",
            "62427         1.0  1.0     1\n",
            "79512         1.0  1.0     1\n",
            "\n",
            "[1870 rows x 3 columns]\n"
          ]
        }
      ]
    },
    {
      "cell_type": "code",
      "source": [
        "plt.figure(figsize=(8,8))\n",
        "numerical_df = df.select_dtypes(include=['number'])\n",
        "correlation_matrix = numerical_df.corr()\n",
        "sns.heatmap(correlation_matrix, annot= True, cmap = 'coolwarm', fmt='.2f')\n",
        "plt.title('Correlation Matrix Heatmap')\n",
        "plt.show()\n"
      ],
      "metadata": {
        "colab": {
          "base_uri": "https://localhost:8080/",
          "height": 699
        },
        "id": "CnwgaGRIvtVj",
        "outputId": "c4cf5fad-15bf-4fc3-f6cc-0374004ed0f0"
      },
      "execution_count": 15,
      "outputs": [
        {
          "output_type": "display_data",
          "data": {
            "text/plain": [
              "<Figure size 800x800 with 2 Axes>"
            ],
            "image/png": "[encoded data removed]"
          },
          "metadata": {}
        }
      ]
    }
  ]
}